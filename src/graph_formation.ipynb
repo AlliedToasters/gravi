{
 "cells": [
  {
   "cell_type": "code",
   "execution_count": 48,
   "id": "a91fa7e3",
   "metadata": {},
   "outputs": [],
   "source": [
    "import faiss\n",
    "import numpy as np\n",
    "import time\n",
    "import networkx as nx\n",
    "\n",
    "res = faiss.StandardGpuResources()"
   ]
  },
  {
   "cell_type": "code",
   "execution_count": null,
   "id": "a53d84a2",
   "metadata": {},
   "outputs": [],
   "source": [
    "nx.erdos_renyi_graph(n, p)"
   ]
  },
  {
   "cell_type": "code",
   "execution_count": 60,
   "id": "538c8059",
   "metadata": {},
   "outputs": [],
   "source": [
    "def load_state(path='./data/states/12340689.txt'):\n",
    "    with open(path, 'r') as f:\n",
    "        d = f.read().split(\"\\n\")[:-1]\n",
    "        \n",
    "    positions, forces, ticker = [], [], 0\n",
    "    pos, forc = [], []\n",
    "    for item in d:\n",
    "        if ticker < 3:\n",
    "            pos.append(float(item))\n",
    "        else:\n",
    "            forc.append(float(item))\n",
    "        ticker += 1\n",
    "        if ticker > 5:\n",
    "            ticker = 0\n",
    "            positions.append(pos), forces.append(forc)\n",
    "            pos, forc = [], []\n",
    "            \n",
    "    return np.array(positions), np.array(forces)\n",
    "\n",
    "def build_nn_graph(p, k=6, g=None, use_gpu=True):\n",
    "    if g is None:\n",
    "        g = nx.Graph()\n",
    "#     t1 = time.time()\n",
    "    p = p.astype(\"float32\")\n",
    "    index_flat = faiss.IndexFlatL2(3)\n",
    "    if use_gpu:\n",
    "        index_flat = faiss.index_cpu_to_gpu(res, 0, index_flat)\n",
    "    index_flat.add(p)\n",
    "    _, I = index_flat.search(p, k+1)\n",
    "    I = I[:, 1:]\n",
    "#     print(time.time() - t1)\n",
    "#     edges = set()\n",
    "    for i in range(len(p)):\n",
    "        row = I[i, :]\n",
    "        for item in row:\n",
    "            edge = (i, item)\n",
    "            edge = (min(edge), max(edge))\n",
    "            if edge[0] != edge[1]:\n",
    "                g.add_edge(edge[0], edge[1])\n",
    "    return g\n",
    "    \n",
    "    \n",
    "p, f = load_state()\n",
    "I = build_nn_graph(p)"
   ]
  },
  {
   "cell_type": "code",
   "execution_count": 44,
   "id": "175fd573",
   "metadata": {},
   "outputs": [
    {
     "name": "stdout",
     "output_type": "stream",
     "text": [
      "0.006889820098876953\n"
     ]
    }
   ],
   "source": [
    "p = np.random.random((10000, 3)).astype('float32')\n",
    "\n",
    "t1 = time.time()\n",
    "index_flat = faiss.IndexFlatL2(3) \n",
    "gpu_index_flat = faiss.index_cpu_to_gpu(res, 0, index_flat)\n",
    "# index = faiss.IndexIVFFlat(3)\n",
    "gpu_index_flat.add(p)\n",
    "_, I = gpu_index_flat.search(p, 7)\n",
    "# print(I[:, 1:])\n",
    "print(time.time() - t1)"
   ]
  },
  {
   "cell_type": "code",
   "execution_count": 2,
   "id": "eb88b96b",
   "metadata": {},
   "outputs": [
    {
     "data": {
      "text/plain": [
       "64"
      ]
     },
     "execution_count": 2,
     "metadata": {},
     "output_type": "execute_result"
    }
   ],
   "source": [
    "import numpy as np\n",
    "d = 64                           # dimension\n",
    "nb = 100000                      # database size\n",
    "nq = 10000                       # nb of queries\n",
    "np.random.seed(1234)             # make reproducible\n",
    "xb = np.random.random((nb, d)).astype('float32')\n",
    "xb[:, 0] += np.arange(nb) / 1000.\n",
    "xq = np.random.random((nq, d)).astype('float32')\n",
    "xq[:, 0] += np.arange(nq) / 1000.\n"
   ]
  },
  {
   "cell_type": "code",
   "execution_count": 20,
   "id": "fcdbb3e2",
   "metadata": {},
   "outputs": [
    {
     "name": "stdout",
     "output_type": "stream",
     "text": [
      "True\n",
      "100000\n",
      "[[  0 393 363  78]\n",
      " [  1 555 277 364]\n",
      " [  2 304 101  13]\n",
      " [  3 173  18 182]\n",
      " [  4 288 370 531]]\n",
      "[[0.        7.175174  7.2076287 7.251163 ]\n",
      " [0.        6.323565  6.684582  6.799944 ]\n",
      " [0.        5.7964087 6.3917365 7.2815127]\n",
      " [0.        7.277905  7.5279875 7.6628447]\n",
      " [0.        6.763804  7.295122  7.368814 ]]\n",
      "[[ 381  207  210  477]\n",
      " [ 526  911  142   72]\n",
      " [ 838  527 1290  425]\n",
      " [ 196  184  164  359]\n",
      " [ 526  377  120  425]]\n",
      "[[ 9900 10500  9309  9831]\n",
      " [11055 10895 10812 11321]\n",
      " [11353 11103 10164  9787]\n",
      " [10571 10664 10632  9638]\n",
      " [ 9628  9554 10036  9582]]\n"
     ]
    }
   ],
   "source": [
    "import numpy as np\n",
    "d = 64                           # dimension\n",
    "nb = 100000                      # database size\n",
    "nq = 10000                       # nb of queries\n",
    "np.random.seed(1234)             # make reproducible\n",
    "xb = np.random.random((nb, d)).astype('float32')\n",
    "xb[:, 0] += np.arange(nb) / 1000.\n",
    "xq = np.random.random((nq, d)).astype('float32')\n",
    "xq[:, 0] += np.arange(nq) / 1000.\n",
    "\n",
    "import faiss                   # make faiss available\n",
    "index = faiss.IndexFlatL2(d)   # build the index\n",
    "print(index.is_trained)\n",
    "index.add(xb)                  # add vectors to the index\n",
    "print(index.ntotal)\n",
    "k = 4                          # we want to see 4 nearest neighbors\n",
    "D, I = index.search(xb[:5], k) # sanity check\n",
    "print(I)\n",
    "print(D)\n",
    "D, I = index.search(xq, k)     # actual search\n",
    "print(I[:5])                   # neighbors of the 5 first queries\n",
    "print(I[-5:])  "
   ]
  },
  {
   "cell_type": "code",
   "execution_count": 17,
   "id": "87b8e647",
   "metadata": {},
   "outputs": [
    {
     "data": {
      "text/plain": [
       "array([[-0.2417869 , -0.1045786 , -0.3448408 ],\n",
       "       [-0.2781265 ,  0.4904646 , -0.09036557],\n",
       "       [ 0.1403343 ,  0.01452989, -0.2460732 ],\n",
       "       [ 0.02065244, -0.4862413 , -0.1893059 ],\n",
       "       [-0.07791606, -0.2150235 ,  0.4538759 ]])"
      ]
     },
     "execution_count": 17,
     "metadata": {},
     "output_type": "execute_result"
    }
   ],
   "source": []
  },
  {
   "cell_type": "code",
   "execution_count": null,
   "id": "d11cd5a1",
   "metadata": {},
   "outputs": [],
   "source": []
  }
 ],
 "metadata": {
  "kernelspec": {
   "display_name": "Python 3 (ipykernel)",
   "language": "python",
   "name": "python3"
  },
  "language_info": {
   "codemirror_mode": {
    "name": "ipython",
    "version": 3
   },
   "file_extension": ".py",
   "mimetype": "text/x-python",
   "name": "python",
   "nbconvert_exporter": "python",
   "pygments_lexer": "ipython3",
   "version": "3.7.6"
  }
 },
 "nbformat": 4,
 "nbformat_minor": 5
}
